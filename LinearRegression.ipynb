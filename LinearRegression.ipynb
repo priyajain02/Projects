{
  "nbformat": 4,
  "nbformat_minor": 0,
  "metadata": {
    "colab": {
      "name": "Untitled1.ipynb",
      "provenance": [],
      "collapsed_sections": [],
      "authorship_tag": "ABX9TyPNAdM2hSBldJK9GgXApzd9",
      "include_colab_link": true
    },
    "kernelspec": {
      "name": "python3",
      "display_name": "Python 3"
    }
  },
  "cells": [
    {
      "cell_type": "markdown",
      "metadata": {
        "id": "view-in-github",
        "colab_type": "text"
      },
      "source": [
        "<a href=\"https://colab.research.google.com/github/priyajain02/Projects/blob/master/LinearRegression.ipynb\" target=\"_parent\"><img src=\"https://colab.research.google.com/assets/colab-badge.svg\" alt=\"Open In Colab\"/></a>"
      ]
    },
    {
      "cell_type": "markdown",
      "metadata": {
        "id": "y5CkL90Ckx90",
        "colab_type": "text"
      },
      "source": [
        "Gradient Descent Method For Linear regression\n"
      ]
    },
    {
      "cell_type": "code",
      "metadata": {
        "id": "sYCvmnaxbOp7",
        "colab_type": "code",
        "colab": {}
      },
      "source": [
        "import numpy as np\n",
        "import matplotlib.pyplot as plt\n",
        "import pandas as pd"
      ],
      "execution_count": 0,
      "outputs": []
    },
    {
      "cell_type": "code",
      "metadata": {
        "id": "6YgW5o2nbjZx",
        "colab_type": "code",
        "colab": {}
      },
      "source": [
        "dataset = pd.read_csv('pizzaFranchise.csv')"
      ],
      "execution_count": 0,
      "outputs": []
    },
    {
      "cell_type": "code",
      "metadata": {
        "id": "Yx8EpjKlrZ-2",
        "colab_type": "code",
        "colab": {}
      },
      "source": [
        "X=dataset.iloc[:,0]\n",
        "y=dataset.iloc[:,1]"
      ],
      "execution_count": 0,
      "outputs": []
    },
    {
      "cell_type": "code",
      "metadata": {
        "id": "6crL5WsOripO",
        "colab_type": "code",
        "colab": {}
      },
      "source": [
        "u = X.mean()\n",
        "std = X.std()\n",
        "X = (X-u)/std"
      ],
      "execution_count": 0,
      "outputs": []
    },
    {
      "cell_type": "code",
      "metadata": {
        "id": "Wo-KQiFkrtCA",
        "colab_type": "code",
        "outputId": "f8c60db1-8a34-419b-86a8-b28697c01a4b",
        "colab": {
          "base_uri": "https://localhost:8080/",
          "height": 376
        }
      },
      "source": [
        "plt.style.use('seaborn')\n",
        "plt.scatter(X,y,color='orange')\n",
        "plt.title(\"Pizza Franchise\")\n",
        "plt.xlabel(\"annual franchise fee\")\n",
        "plt.ylabel(\"start up cost \")\n",
        "plt.show()"
      ],
      "execution_count": 0,
      "outputs": [
        {
          "output_type": "display_data",
          "data": {
            "image/png": "[encoded data removed]",
            "text/plain": [
              "<Figure size 576x396 with 1 Axes>"
            ]
          },
          "metadata": {
            "tags": []
          }
        }
      ]
    },
    {
      "cell_type": "code",
      "metadata": {
        "id": "KDY1OoA5r27m",
        "colab_type": "code",
        "colab": {}
      },
      "source": [
        "def hypothesis(x,theta):\n",
        "    y_ = theta[0] + theta[1]*x\n",
        "    return y_\n",
        "def gradient(X,Y,theta):\n",
        "    m = X.shape[0]\n",
        "    grad = np.zeros((2,))\n",
        "    for i in range(m):\n",
        "        x = X[i]\n",
        "        y_ = hypothesis(x,theta)\n",
        "        y = Y[i]\n",
        "        grad[0] += (y_ - y)\n",
        "        grad[1] += (y_ - y)*x\n",
        "    return grad/m\n",
        "def error(X,Y,theta):\n",
        "    m = X.shape[0]\n",
        "    total_error = 0.0\n",
        "    for i in range(m):\n",
        "        y_ = hypothesis(X[i],theta)\n",
        "        total_error += (y_ - Y[i])**2\n",
        "        \n",
        "    return (total_error/m)\n",
        "def gradientDescent(X,Y,max_steps=500,learning_rate =0.1):\n",
        "    \n",
        "    theta = np.zeros((2,))\n",
        "    error_list = []\n",
        "    theta_list = []\n",
        "    \n",
        "   \n",
        "    for i in range(max_steps):\n",
        "        \n",
        "        # Compute grad\n",
        "        grad = gradient(X,Y,theta)\n",
        "        e = error(X,Y,theta)\n",
        "        \n",
        "        \n",
        "        #Update theta\n",
        "        theta[0] = theta[0] - learning_rate*grad[0]\n",
        "        theta[1] = theta[1] - learning_rate*grad[1]\n",
        "        # Storing the theta values during updates\n",
        "        theta_list.append((theta[0],theta[1]))\n",
        "        error_list.append(e)\n",
        "        \n",
        "    return theta,error_list,theta_list\n"
      ],
      "execution_count": 0,
      "outputs": []
    },
    {
      "cell_type": "code",
      "metadata": {
        "id": "0fVxGR0AsWHG",
        "colab_type": "code",
        "colab": {}
      },
      "source": [
        "theta,error_list,theta_list = gradientDescent(X,y)"
      ],
      "execution_count": 0,
      "outputs": []
    },
    {
      "cell_type": "code",
      "metadata": {
        "id": "Dyd7geiJslob",
        "colab_type": "code",
        "outputId": "f31b6840-82c8-4e03-f869-781a1f7797e0",
        "colab": {
          "base_uri": "https://localhost:8080/",
          "height": 34
        }
      },
      "source": [
        "theta"
      ],
      "execution_count": 0,
      "outputs": [
        {
          "output_type": "execute_result",
          "data": {
            "text/plain": [
              "array([1291.05555556,   59.17658382])"
            ]
          },
          "metadata": {
            "tags": []
          },
          "execution_count": 9
        }
      ]
    },
    {
      "cell_type": "code",
      "metadata": {
        "id": "_A38ABe4s09i",
        "colab_type": "code",
        "outputId": "8a23b615-5345-406e-99fb-619a3a5362e5",
        "colab": {
          "base_uri": "https://localhost:8080/",
          "height": 1000
        }
      },
      "source": [
        "error_list"
      ],
      "execution_count": 0,
      "outputs": [
        {
          "output_type": "execute_result",
          "data": {
            "text/plain": [
              "[1681787.3333333333,\n",
              " 1364460.8646900104,\n",
              " 1107423.2711111056,\n",
              " 899220.2497959399,\n",
              " 730573.7075400745,\n",
              " 593968.3008793355,\n",
              " 483316.5299126691,\n",
              " 393687.46128818614,\n",
              " 321086.99136829446,\n",
              " 262279.8573937911,\n",
              " 214645.46489702654,\n",
              " 176061.10657831523,\n",
              " 144807.36851328737,\n",
              " 119491.50829856747,\n",
              " 98985.39063071123,\n",
              " 82375.21453910181,\n",
              " 68920.79196696833,\n",
              " 58022.56303273893,\n",
              " 49194.87807447855,\n",
              " 42044.35584731472,\n",
              " 36252.35345261748,\n",
              " 31560.76680888405,\n",
              " 27760.528893177365,\n",
              " 24682.293202607736,\n",
              " 22188.887265154204,\n",
              " 20169.199907651513,\n",
              " 18533.229881099287,\n",
              " 17208.0751968278,\n",
              " 16134.684447768772,\n",
              " 15265.225345250401,\n",
              " 14560.953206552185,\n",
              " 13990.484407615893,\n",
              " 13528.397861641473,\n",
              " 13154.102201998237,\n",
              " 12850.918188360083,\n",
              " 12605.33544587664,\n",
              " 12406.41041591578,\n",
              " 12245.278689656607,\n",
              " 12114.759992995216,\n",
              " 12009.038219994989,\n",
              " 11923.402256458106,\n",
              " 11854.03604414652,\n",
              " 11797.848530460717,\n",
              " 11752.335925771964,\n",
              " 11715.470130306889,\n",
              " 11685.60835865691,\n",
              " 11661.419934598276,\n",
              " 11641.82699405472,\n",
              " 11625.95645381131,\n",
              " 11613.101105613598,\n",
              " 11602.688101932385,\n",
              " 11594.253429061804,\n",
              " 11587.421230026186,\n",
              " 11581.887055887935,\n",
              " 11577.40429910594,\n",
              " 11573.773204391957,\n",
              " 11570.831967370912,\n",
              " 11568.449524386748,\n",
              " 11566.519712156618,\n",
              " 11564.956537018388,\n",
              " 11563.690342962276,\n",
              " 11562.664707688427,\n",
              " 11561.833928374428,\n",
              " 11561.160985115092,\n",
              " 11560.615891282712,\n",
              " 11560.174357297677,\n",
              " 11559.816708265367,\n",
              " 11559.527007248058,\n",
              " 11559.292345103551,\n",
              " 11559.102265245268,\n",
              " 11558.948297690233,\n",
              " 11558.823581631726,\n",
              " 11558.722559718093,\n",
              " 11558.640730414441,\n",
              " 11558.574447412275,\n",
              " 11558.520757148573,\n",
              " 11558.477267193904,\n",
              " 11558.442039645153,\n",
              " 11558.41350477201,\n",
              " 11558.39039106945,\n",
              " 11558.371668599284,\n",
              " 11558.35650309602,\n",
              " 11558.344218791877,\n",
              " 11558.334268304643,\n",
              " 11558.32620824626,\n",
              " 11558.319679465523,\n",
              " 11558.314391044367,\n",
              " 11558.310107334608,\n",
              " 11558.306637457463,\n",
              " 11558.303826798094,\n",
              " 11558.301550116019,\n",
              " 11558.299705964444,\n",
              " 11558.298212169791,\n",
              " 11558.297002170148,\n",
              " 11558.29602204926,\n",
              " 11558.295228134084,\n",
              " 11558.294585048738,\n",
              " 11558.294064138141,\n",
              " 11558.29364219122,\n",
              " 11558.293300406605,\n",
              " 11558.29302355486,\n",
              " 11558.292799299885,\n",
              " 11558.292617649231,\n",
              " 11558.292470508857,\n",
              " 11558.292351322403,\n",
              " 11558.292254779148,\n",
              " 11558.292176577292,\n",
              " 11558.292113232303,\n",
              " 11558.292061921667,\n",
              " 11558.292020359055,\n",
              " 11558.291986692546,\n",
              " 11558.291959422007,\n",
              " 11558.291937332348,\n",
              " 11558.291919439293,\n",
              " 11558.291904945561,\n",
              " 11558.291893205347,\n",
              " 11558.291883695536,\n",
              " 11558.2918759924,\n",
              " 11558.29186975271,\n",
              " 11558.291864698433,\n",
              " 11558.291860604355,\n",
              " 11558.291857288077,\n",
              " 11558.291854601817,\n",
              " 11558.2918524259,\n",
              " 11558.291850663349,\n",
              " 11558.291849235646,\n",
              " 11558.291848079185,\n",
              " 11558.291847142413,\n",
              " 11558.291846383618,\n",
              " 11558.291845768976,\n",
              " 11558.291845271102,\n",
              " 11558.29184486781,\n",
              " 11558.291844541147,\n",
              " 11558.291844276537,\n",
              " 11558.29184406219,\n",
              " 11558.291843888564,\n",
              " 11558.29184374793,\n",
              " 11558.291843634004,\n",
              " 11558.291843541727,\n",
              " 11558.291843466985,\n",
              " 11558.291843406438,\n",
              " 11558.291843357396,\n",
              " 11558.291843317664,\n",
              " 11558.29184328549,\n",
              " 11558.29184325942,\n",
              " 11558.291843238305,\n",
              " 11558.291843221205,\n",
              " 11558.291843207344,\n",
              " 11558.291843196122,\n",
              " 11558.291843187031,\n",
              " 11558.291843179677,\n",
              " 11558.29184317371,\n",
              " 11558.291843168878,\n",
              " 11558.291843164967,\n",
              " 11558.291843161798,\n",
              " 11558.291843159228,\n",
              " 11558.291843157142,\n",
              " 11558.291843155468,\n",
              " 11558.291843154098,\n",
              " 11558.291843152994,\n",
              " 11558.29184315209,\n",
              " 11558.291843151375,\n",
              " 11558.291843150779,\n",
              " 11558.291843150306,\n",
              " 11558.291843149917,\n",
              " 11558.291843149604,\n",
              " 11558.291843149353,\n",
              " 11558.291843149149,\n",
              " 11558.291843148987,\n",
              " 11558.291843148845,\n",
              " 11558.291843148743,\n",
              " 11558.29184314865,\n",
              " 11558.291843148592,\n",
              " 11558.29184314852,\n",
              " 11558.291843148476,\n",
              " 11558.291843148436,\n",
              " 11558.291843148409,\n",
              " 11558.291843148385,\n",
              " 11558.291843148365,\n",
              " 11558.291843148347,\n",
              " 11558.291843148332,\n",
              " 11558.291843148334,\n",
              " 11558.29184314832,\n",
              " 11558.291843148305,\n",
              " 11558.291843148305,\n",
              " 11558.291843148294,\n",
              " 11558.291843148296,\n",
              " 11558.29184314829,\n",
              " 11558.291843148289,\n",
              " 11558.291843148289,\n",
              " 11558.291843148274,\n",
              " 11558.29184314829,\n",
              " 11558.291843148283,\n",
              " 11558.291843148278,\n",
              " 11558.291843148278,\n",
              " 11558.291843148276,\n",
              " 11558.291843148285,\n",
              " 11558.291843148276,\n",
              " 11558.291843148278,\n",
              " 11558.29184314828,\n",
              " 11558.291843148278,\n",
              " 11558.291843148278,\n",
              " 11558.29184314827,\n",
              " 11558.291843148285,\n",
              " 11558.291843148276,\n",
              " 11558.291843148276,\n",
              " 11558.291843148274,\n",
              " 11558.291843148272,\n",
              " 11558.291843148281,\n",
              " 11558.291843148276,\n",
              " 11558.291843148281,\n",
              " 11558.29184314828,\n",
              " 11558.291843148278,\n",
              " 11558.29184314828,\n",
              " 11558.291843148274,\n",
              " 11558.291843148276,\n",
              " 11558.291843148283,\n",
              " 11558.291843148274,\n",
              " 11558.291843148289,\n",
              " 11558.291843148276,\n",
              " 11558.291843148274,\n",
              " 11558.291843148278,\n",
              " 11558.291843148278,\n",
              " 11558.291843148276,\n",
              " 11558.291843148276,\n",
              " 11558.291843148278,\n",
              " 11558.29184314828,\n",
              " 11558.29184314827,\n",
              " 11558.291843148278,\n",
              " 11558.291843148276,\n",
              " 11558.291843148278,\n",
              " 11558.291843148274,\n",
              " 11558.29184314828,\n",
              " 11558.291843148276,\n",
              " 11558.291843148281,\n",
              " 11558.291843148278,\n",
              " 11558.291843148281,\n",
              " 11558.291843148283,\n",
              " 11558.291843148278,\n",
              " 11558.291843148272,\n",
              " 11558.291843148276,\n",
              " 11558.291843148283,\n",
              " 11558.291843148281,\n",
              " 11558.291843148276,\n",
              " 11558.29184314828,\n",
              " 11558.291843148276,\n",
              " 11558.291843148281,\n",
              " 11558.291843148281,\n",
              " 11558.291843148276,\n",
              " 11558.291843148276,\n",
              " 11558.291843148276,\n",
              " 11558.291843148278,\n",
              " 11558.29184314828,\n",
              " 11558.291843148278,\n",
              " 11558.291843148276,\n",
              " 11558.291843148276,\n",
              " 11558.291843148283,\n",
              " 11558.29184314827,\n",
              " 11558.291843148285,\n",
              " 11558.291843148281,\n",
              " 11558.291843148276,\n",
              " 11558.291843148274,\n",
              " 11558.291843148285,\n",
              " 11558.291843148281,\n",
              " 11558.291843148278,\n",
              " 11558.291843148278,\n",
              " 11558.291843148278,\n",
              " 11558.291843148276,\n",
              " 11558.291843148278,\n",
              " 11558.29184314828,\n",
              " 11558.291843148276,\n",
              " 11558.291843148278,\n",
              " 11558.291843148281,\n",
              " 11558.291843148281,\n",
              " 11558.291843148281,\n",
              " 11558.291843148281,\n",
              " 11558.29184314828,\n",
              " 11558.291843148278,\n",
              " 11558.291843148278,\n",
              " 11558.29184314828,\n",
              " 11558.291843148274,\n",
              " 11558.291843148281,\n",
              " 11558.29184314828,\n",
              " 11558.291843148278,\n",
              " 11558.291843148276,\n",
              " 11558.291843148276,\n",
              " 11558.29184314828,\n",
              " 11558.29184314828,\n",
              " 11558.29184314827,\n",
              " 11558.291843148278,\n",
              " 11558.291843148278,\n",
              " 11558.291843148278,\n",
              " 11558.291843148278,\n",
              " 11558.29184314828,\n",
              " 11558.291843148276,\n",
              " 11558.291843148276,\n",
              " 11558.291843148274,\n",
              " 11558.291843148276,\n",
              " 11558.291843148276,\n",
              " 11558.29184314828,\n",
              " 11558.291843148276,\n",
              " 11558.291843148276,\n",
              " 11558.291843148276,\n",
              " 11558.291843148285,\n",
              " 11558.291843148276,\n",
              " 11558.291843148283,\n",
              " 11558.291843148276,\n",
              " 11558.291843148274,\n",
              " 11558.291843148281,\n",
              " 11558.29184314828,\n",
              " 11558.291843148276,\n",
              " 11558.291843148276,\n",
              " 11558.291843148276,\n",
              " 11558.291843148281,\n",
              " 11558.291843148272,\n",
              " 11558.291843148281,\n",
              " 11558.291843148287,\n",
              " 11558.291843148276,\n",
              " 11558.291843148274,\n",
              " 11558.291843148276,\n",
              " 11558.291843148276,\n",
              " 11558.291843148269,\n",
              " 11558.291843148276,\n",
              " 11558.29184314828,\n",
              " 11558.29184314828,\n",
              " 11558.291843148276,\n",
              " 11558.291843148276,\n",
              " 11558.29184314827,\n",
              " 11558.291843148276,\n",
              " 11558.291843148276,\n",
              " 11558.291843148276,\n",
              " 11558.291843148276,\n",
              " 11558.291843148276,\n",
              " 11558.291843148276,\n",
              " 11558.291843148276,\n",
              " 11558.291843148276,\n",
              " 11558.291843148276,\n",
              " 11558.291843148276,\n",
              " 11558.291843148276,\n",
              " 11558.291843148276,\n",
              " 11558.291843148276,\n",
              " 11558.29184314827,\n",
              " 11558.29184314827,\n",
              " 11558.29184314827,\n",
              " 11558.29184314827,\n",
              " 11558.291843148274,\n",
              " 11558.291843148274,\n",
              " 11558.291843148274,\n",
              " 11558.291843148274,\n",
              " 11558.291843148274,\n",
              " 11558.291843148274,\n",
              " 11558.291843148274,\n",
              " 11558.291843148274,\n",
              " 11558.291843148274,\n",
              " 11558.291843148274,\n",
              " 11558.291843148274,\n",
              " 11558.291843148274,\n",
              " 11558.291843148274,\n",
              " 11558.291843148274,\n",
              " 11558.291843148274,\n",
              " 11558.291843148274,\n",
              " 11558.291843148274,\n",
              " 11558.291843148274,\n",
              " 11558.291843148274,\n",
              " 11558.291843148274,\n",
              " 11558.291843148274,\n",
              " 11558.291843148274,\n",
              " 11558.291843148274,\n",
              " 11558.291843148274,\n",
              " 11558.291843148274,\n",
              " 11558.291843148274,\n",
              " 11558.291843148274,\n",
              " 11558.291843148274,\n",
              " 11558.291843148274,\n",
              " 11558.291843148274,\n",
              " 11558.291843148274,\n",
              " 11558.291843148274,\n",
              " 11558.291843148274,\n",
              " 11558.291843148274,\n",
              " 11558.291843148274,\n",
              " 11558.291843148274,\n",
              " 11558.291843148274,\n",
              " 11558.291843148274,\n",
              " 11558.291843148274,\n",
              " 11558.291843148274,\n",
              " 11558.291843148274,\n",
              " 11558.291843148274,\n",
              " 11558.291843148274,\n",
              " 11558.291843148274,\n",
              " 11558.291843148274,\n",
              " 11558.291843148274,\n",
              " 11558.291843148274,\n",
              " 11558.291843148274,\n",
              " 11558.291843148274,\n",
              " 11558.291843148274,\n",
              " 11558.291843148274,\n",
              " 11558.291843148274,\n",
              " 11558.291843148274,\n",
              " 11558.291843148274,\n",
              " 11558.291843148274,\n",
              " 11558.291843148274,\n",
              " 11558.291843148274,\n",
              " 11558.291843148274,\n",
              " 11558.291843148274,\n",
              " 11558.291843148274,\n",
              " 11558.291843148274,\n",
              " 11558.291843148274,\n",
              " 11558.291843148274,\n",
              " 11558.291843148274,\n",
              " 11558.291843148274,\n",
              " 11558.291843148274,\n",
              " 11558.291843148274,\n",
              " 11558.291843148274,\n",
              " 11558.291843148274,\n",
              " 11558.291843148274,\n",
              " 11558.291843148274,\n",
              " 11558.291843148274,\n",
              " 11558.291843148274,\n",
              " 11558.291843148274,\n",
              " 11558.291843148274,\n",
              " 11558.291843148274,\n",
              " 11558.291843148274,\n",
              " 11558.291843148274,\n",
              " 11558.291843148274,\n",
              " 11558.291843148274,\n",
              " 11558.291843148274,\n",
              " 11558.291843148274,\n",
              " 11558.291843148274,\n",
              " 11558.291843148274,\n",
              " 11558.291843148274,\n",
              " 11558.291843148274,\n",
              " 11558.291843148274,\n",
              " 11558.291843148274,\n",
              " 11558.291843148274,\n",
              " 11558.291843148274,\n",
              " 11558.291843148274,\n",
              " 11558.291843148274,\n",
              " 11558.291843148274,\n",
              " 11558.291843148274,\n",
              " 11558.291843148274,\n",
              " 11558.291843148274,\n",
              " 11558.291843148274,\n",
              " 11558.291843148274,\n",
              " 11558.291843148274,\n",
              " 11558.291843148274,\n",
              " 11558.291843148274,\n",
              " 11558.291843148274,\n",
              " 11558.291843148274,\n",
              " 11558.291843148274,\n",
              " 11558.291843148274,\n",
              " 11558.291843148274,\n",
              " 11558.291843148274,\n",
              " 11558.291843148274,\n",
              " 11558.291843148274,\n",
              " 11558.291843148274,\n",
              " 11558.291843148274,\n",
              " 11558.291843148274,\n",
              " 11558.291843148274,\n",
              " 11558.291843148274,\n",
              " 11558.291843148274,\n",
              " 11558.291843148274,\n",
              " 11558.291843148274,\n",
              " 11558.291843148274,\n",
              " 11558.291843148274,\n",
              " 11558.291843148274,\n",
              " 11558.291843148274,\n",
              " 11558.291843148274,\n",
              " 11558.291843148274,\n",
              " 11558.291843148274,\n",
              " 11558.291843148274,\n",
              " 11558.291843148274,\n",
              " 11558.291843148274,\n",
              " 11558.291843148274,\n",
              " 11558.291843148274,\n",
              " 11558.291843148274,\n",
              " 11558.291843148274,\n",
              " 11558.291843148274,\n",
              " 11558.291843148274,\n",
              " 11558.291843148274,\n",
              " 11558.291843148274,\n",
              " 11558.291843148274,\n",
              " 11558.291843148274,\n",
              " 11558.291843148274,\n",
              " 11558.291843148274,\n",
              " 11558.291843148274,\n",
              " 11558.291843148274,\n",
              " 11558.291843148274,\n",
              " 11558.291843148274,\n",
              " 11558.291843148274,\n",
              " 11558.291843148274,\n",
              " 11558.291843148274,\n",
              " 11558.291843148274,\n",
              " 11558.291843148274,\n",
              " 11558.291843148274,\n",
              " 11558.291843148274,\n",
              " 11558.291843148274,\n",
              " 11558.291843148274,\n",
              " 11558.291843148274,\n",
              " 11558.291843148274,\n",
              " 11558.291843148274]"
            ]
          },
          "metadata": {
            "tags": []
          },
          "execution_count": 10
        }
      ]
    },
    {
      "cell_type": "code",
      "metadata": {
        "id": "B3mKxDNws9uV",
        "colab_type": "code",
        "outputId": "703b01d0-6bbd-4d64-8042-8a352aa3c088",
        "colab": {
          "base_uri": "https://localhost:8080/",
          "height": 362
        }
      },
      "source": [
        "plt.plot(error_list)\n",
        "plt.title(\"Reduction error over time\")\n",
        "plt.show()"
      ],
      "execution_count": 0,
      "outputs": [
        {
          "output_type": "display_data",
          "data": {
            "image/png": "[encoded data removed]",
            "text/plain": [
              "<Figure size 576x396 with 1 Axes>"
            ]
          },
          "metadata": {
            "tags": []
          }
        }
      ]
    },
    {
      "cell_type": "code",
      "metadata": {
        "id": "s2KXpmjXtKG_",
        "colab_type": "code",
        "outputId": "96618cc4-b326-4fdb-d13c-78c0ae606909",
        "colab": {
          "base_uri": "https://localhost:8080/",
          "height": 638
        }
      },
      "source": [
        "y_ = hypothesis(X,theta)\n",
        "print(y_)"
      ],
      "execution_count": 0,
      "outputs": [
        {
          "output_type": "stream",
          "text": [
            "0     1240.762158\n",
            "1     1287.406900\n",
            "2     1273.226899\n",
            "3     1266.883214\n",
            "4     1278.077952\n",
            "5     1296.735849\n",
            "6     1334.051642\n",
            "7     1296.735849\n",
            "8     1278.077952\n",
            "9     1371.367436\n",
            "10    1343.380591\n",
            "11    1380.696384\n",
            "12    1306.064797\n",
            "13    1315.393745\n",
            "14    1306.064797\n",
            "15    1352.709539\n",
            "16    1337.783222\n",
            "17    1363.904277\n",
            "18    1362.038487\n",
            "19    1315.393745\n",
            "20    1324.722694\n",
            "21    1274.346372\n",
            "22    1268.749003\n",
            "23    1270.614793\n",
            "24    1270.614793\n",
            "25    1307.930587\n",
            "26    1324.722694\n",
            "27    1306.064797\n",
            "28    1334.051642\n",
            "29    1334.051642\n",
            "30    1147.472674\n",
            "31    1287.406900\n",
            "32    1128.814777\n",
            "33    1203.446365\n",
            "34    1203.446365\n",
            "35    1184.788468\n",
            "Name: X, dtype: float64\n"
          ],
          "name": "stdout"
        }
      ]
    },
    {
      "cell_type": "code",
      "metadata": {
        "id": "-vVOS7w5tNuy",
        "colab_type": "code",
        "outputId": "01ddb09b-8af6-4d0b-db07-b53fd15c273f",
        "colab": {
          "base_uri": "https://localhost:8080/",
          "height": 347
        }
      },
      "source": [
        "plt.scatter(X,y)\n",
        "plt.plot(X,y_,color='orange',label=\"Prediction\")\n",
        "plt.legend()\n",
        "plt.show()"
      ],
      "execution_count": 0,
      "outputs": [
        {
          "output_type": "display_data",
          "data": {
            "image/png": "[encoded data removed]",
            "text/plain": [
              "<Figure size 576x396 with 1 Axes>"
            ]
          },
          "metadata": {
            "tags": []
          }
        }
      ]
    },
    {
      "cell_type": "code",
      "metadata": {
        "id": "OnndizmmtRgo",
        "colab_type": "code",
        "colab": {}
      },
      "source": [
        "def r2_score(Y,Y_):\n",
        "    num = np.sum((Y-Y_)**2)\n",
        "    denom = np.sum((Y- Y.mean())**2)\n",
        "    score = (1- num/denom)\n",
        "    return score*100"
      ],
      "execution_count": 0,
      "outputs": []
    },
    {
      "cell_type": "code",
      "metadata": {
        "id": "JdMt9JMT1Zb0",
        "colab_type": "code",
        "outputId": "e3bef88c-8ef8-4335-a1ea-159b03e592ed",
        "colab": {
          "base_uri": "https://localhost:8080/",
          "height": 34
        }
      },
      "source": [
        "r2_score(y,y_)"
      ],
      "execution_count": 0,
      "outputs": [
        {
          "output_type": "execute_result",
          "data": {
            "text/plain": [
              "22.753591815551033"
            ]
          },
          "metadata": {
            "tags": []
          },
          "execution_count": 15
        }
      ]
    },
    {
      "cell_type": "code",
      "metadata": {
        "id": "WXcUoELo1gga",
        "colab_type": "code",
        "colab": {}
      },
      "source": [
        ""
      ],
      "execution_count": 0,
      "outputs": []
    }
  ]
}